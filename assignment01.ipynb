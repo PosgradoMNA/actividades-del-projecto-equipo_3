{
  "nbformat": 4,
  "nbformat_minor": 0,
  "metadata": {
    "colab": {
      "name": "assignment01.ipynb",
      "provenance": [],
      "include_colab_link": true
    },
    "kernelspec": {
      "name": "python3",
      "display_name": "Python 3"
    },
    "language_info": {
      "name": "python"
    }
  },
  "cells": [
    {
      "cell_type": "markdown",
      "metadata": {
        "id": "view-in-github",
        "colab_type": "text"
      },
      "source": [
        "<a href=\"https://colab.research.google.com/github/PosgradoMNA/actividades-del-projecto-equipo_3/blob/main/assignment01.ipynb\" target=\"_parent\"><img src=\"https://colab.research.google.com/assets/colab-badge.svg\" alt=\"Open In Colab\"/></a>"
      ]
    },
    {
      "cell_type": "code",
      "execution_count": null,
      "metadata": {
        "id": "LzUSMM79NR9P",
        "outputId": "0e6cb421-1096-426a-b31a-f61d059def81",
        "colab": {
          "base_uri": "https://localhost:8080/"
        }
      },
      "outputs": [
        {
          "output_type": "stream",
          "name": "stdout",
          "text": [
            "assignment01 for GitJobish03 and edited in git, and 18\n"
          ]
        }
      ],
      "source": [
        "print('assignment01 for GitJobish03 and edited in git, and 18')"
      ]
    },
    {
      "cell_type": "markdown",
      "source": [
        "Describe el conjunto de datos. ¿Qué datos contiene?:\n",
        "\n",
        "El dataset contiene las respuestas de 1885 encuestados acerca del consumo de 18 drogas legales e ilegales, para cada encuestado se conocen 24 atributos de medidas de personalidad. Las posibles respuestas para cada droga son: nunca usó la droga, la usó hace más de una década o en la última década, año, mes, semana o día.\n",
        "\n",
        "¿Cuáles son algunas de las preguntas de investigación que podría responder con estos datos? Enumere al menos OCHO (no responda las preguntas).\n",
        "\n",
        "*   Evaluación de riesgo de consumir cada droga.\n",
        "*   Clasificación binaria mediante la unión de partes de las clases en una nueva clase.\n",
        "*   Mejor binarización de clases para cada atributo.\n",
        "*   Clasificaciones de clase para cada droga por separado.\n",
        "*   Elemento de lista\n",
        "*   Elemento de lista\n",
        "*   Elemento de lista\n",
        "*   Elemento de lista\n",
        "\n",
        "¿Qué actor (empresa, sector de la sociedad, organismo descentralizado, gobierno, etc.) estaría interesado en las preguntas mencionadas que identificó?\n",
        "\n",
        "Instituto Nacional de Desarrollo Social.\n",
        "Comisión Nacional contra las Adicciones.\n",
        "Instituto para la atención y prevención de las adicciones en la ciudad de México.\n",
        "La organizacion mundial de la salud."
      ],
      "metadata": {
        "id": "XXkh4kCLHmPu"
      }
    },
    {
      "cell_type": "code",
      "source": [
        "##thisisacoment"
      ],
      "metadata": {
        "id": "mxM_WppZPMFx"
      },
      "execution_count": null,
      "outputs": []
    }
  ]
}