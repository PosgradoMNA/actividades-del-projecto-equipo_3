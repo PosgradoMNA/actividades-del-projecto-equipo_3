{
  "nbformat": 4,
  "nbformat_minor": 0,
  "metadata": {
    "colab": {
      "provenance": [],
      "collapsed_sections": [],
      "authorship_tag": "ABX9TyPg3pYJUS9zPzVgLPnz3Ivy",
      "include_colab_link": true
    },
    "kernelspec": {
      "name": "python3",
      "display_name": "Python 3"
    },
    "language_info": {
      "name": "python"
    }
  },
  "cells": [
    {
      "cell_type": "markdown",
      "metadata": {
        "id": "view-in-github",
        "colab_type": "text"
      },
      "source": [
        "<a href=\"https://colab.research.google.com/github/PosgradoMNA/actividades-del-projecto-equipo_3/blob/main/Proyecto_final_Avance_1.ipynb\" target=\"_parent\"><img src=\"https://colab.research.google.com/assets/colab-badge.svg\" alt=\"Open In Colab\"/></a>"
      ]
    },
    {
      "cell_type": "markdown",
      "source": [
        "# **Proyecto final - Avance 1**"
      ],
      "metadata": {
        "id": "CsCL1hJVgLDJ"
      }
    },
    {
      "cell_type": "markdown",
      "source": [
        "**Equipo 3:** Julio Osvaldo Hernández Bucio - A01794366 y Juan Antonio Melendres Villa - A00369017"
      ],
      "metadata": {
        "id": "CeQbEQK4gPZB"
      }
    },
    {
      "cell_type": "markdown",
      "source": [
        "1. Buscar en Internet un conjunto de datos que utilizará a lo largo del módulo de aprendizaje.\n",
        "   \n",
        "  *   El conjunto de datos puede provenir de cualquier portal de Internet que maneje datos abiertos o puede obtenerse de una empresa u organización.\n",
        "  *   El conjunto de datos puede ser sobre cualquier tema, pero cuidando que esté relacionado con un problema social, ambiental o económico.\n"
      ],
      "metadata": {
        "id": "NpHEPBwigt7_"
      }
    },
    {
      "cell_type": "markdown",
      "source": [
        "# **El nombre que caracteriza el conjunto de datos:**\n",
        "\n",
        "***Consumo de drogas - Clasificar tipo de consumidor de drogas por datos de personalidad***"
      ],
      "metadata": {
        "id": "rbvPW0A-hAhV"
      }
    },
    {
      "cell_type": "markdown",
      "source": [
        "# **La organización que lo generó:**\n",
        "La base de datos fue recopilada por Elaine Fehrman entre marzo de 2011 y marzo de 2012. En enero de 2011, la propuesta de investigación fue aprobada por la Universidad de Leicester."
      ],
      "metadata": {
        "id": "-1QeQFl7hOaE"
      }
    },
    {
      "cell_type": "markdown",
      "source": [
        "# **Incluya un enlace de Internet donde se puedan descargar el base de datos en línea:**\n",
        " * URL con la descripción - https://archive.ics.uci.edu/ml/datasets/Drug+consumption+%28quantified%29#\n",
        "\n",
        " * URL para descargar - https://archive.ics.uci.edu/ml/machine-learning-databases/00373/"
      ],
      "metadata": {
        "id": "M3mkpH2thQEX"
      }
    },
    {
      "cell_type": "markdown",
      "source": [
        "# **Describe el conjunto de datos. ¿Qué datos contiene?**"
      ],
      "metadata": {
        "id": "89u399wLhST7"
      }
    },
    {
      "cell_type": "markdown",
      "source": [
        "# **¿Cuáles son algunas de las preguntas de investigación que podría responder con estos datos? Enumere al menos OCHO (no responda las preguntas).**"
      ],
      "metadata": {
        "id": "H3wDBx0IhUAM"
      }
    },
    {
      "cell_type": "markdown",
      "source": [
        "# **¿Qué actor (empresa, sector de la sociedad, organismo descentralizado, gobierno, etc.) estaría interesado en las preguntas mencionadas que identificó?**"
      ],
      "metadata": {
        "id": "Wasm-sgHhXCn"
      }
    }
  ]
}