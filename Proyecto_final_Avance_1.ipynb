{
  "nbformat": 4,
  "nbformat_minor": 0,
  "metadata": {
    "colab": {
      "provenance": [],
      "collapsed_sections": [],
      "include_colab_link": true
    },
    "kernelspec": {
      "name": "python3",
      "display_name": "Python 3"
    },
    "language_info": {
      "name": "python"
    }
  },
  "cells": [
    {
      "cell_type": "markdown",
      "metadata": {
        "id": "view-in-github",
        "colab_type": "text"
      },
      "source": [
        "<a href=\"https://colab.research.google.com/github/PosgradoMNA/actividades-del-projecto-equipo_3/blob/main/Proyecto_final_Avance_1.ipynb\" target=\"_parent\"><img src=\"https://colab.research.google.com/assets/colab-badge.svg\" alt=\"Open In Colab\"/></a>"
      ]
    },
    {
      "cell_type": "markdown",
      "source": [
        "# **Proyecto final - Avance 1**"
      ],
      "metadata": {
        "id": "CsCL1hJVgLDJ"
      }
    },
    {
      "cell_type": "markdown",
      "source": [
        "**Equipo 3:** Julio Osvaldo Hernández Bucio - A01794366 y Juan Antonio Melendres Villa - A00369017"
      ],
      "metadata": {
        "id": "CeQbEQK4gPZB"
      }
    },
    {
      "cell_type": "markdown",
      "source": [
        "1. Buscar en Internet un conjunto de datos que utilizará a lo largo del módulo de aprendizaje.\n",
        "   \n",
        "  *   El conjunto de datos puede provenir de cualquier portal de Internet que maneje datos abiertos o puede obtenerse de una empresa u organización.\n",
        "  *   El conjunto de datos puede ser sobre cualquier tema, pero cuidando que esté relacionado con un problema social, ambiental o económico.\n"
      ],
      "metadata": {
        "id": "NpHEPBwigt7_"
      }
    },
    {
      "cell_type": "markdown",
      "source": [
        "# **El nombre que caracteriza el conjunto de datos:**\n",
        "\n",
        "***Drug consumption - Classify type of drug consumer by personality data***\n",
        "\n",
        "Database contains records for 1885 respondents. For each respondent 12 attributes are known: Personality measurements which include NEO-FFI-R (neuroticism, extraversion, openness to experience, agreeableness, and conscientiousness), BIS-11 (impulsivity), and ImpSS (sensation seeking), level of education, age, gender, country of residence and ethnicity. All input attributes are originally categorical and are quantified. After quantification values of all input features can be considered as real-valued. In addition, participants were questioned concerning their use of 18 legal and illegal drugs (alcohol, amphetamines, amyl nitrite, benzodiazepine, cannabis, chocolate, cocaine, caffeine, crack, ecstasy, heroin, ketamine, legal highs, LSD, methadone, mushrooms, nicotine and volatile substance abuse and one fictitious drug (Semeron) which was introduced to identify over-claimers. For each drug they have to select one of the answers: never used the drug, used it over a decade ago, or in the last decade, year, month, week, or day.\n",
        "Database contains 18 classification problems. Each of independent label variables contains seven classes: \"Never Used\", \"Used over a Decade Ago\", \"Used in Last Decade\", \"Used in Last Year\", \"Used in Last Month\", \"Used in Last Week\", and \"Used in Last Day\".\n",
        "\n",
        "Problem which can be solved:\n",
        "* Seven class classifications for each drug separately.\n",
        "* Problem can be transformed to binary classification by union of part of classes into one new class. For example, \"Never Used\", \"Used over a Decade Ago\" form class \"Non-user\" and all other classes form class \"User\".\n",
        "* The best binarization of classes for each attribute.\n",
        "* Evaluation of risk to be drug consumer for each drug.\n",
        "\n",
        "Detailed description of database and process of data quantification are presented in E. Fehrman, A. K. Muhammad, E. M. Mirkes, V. Egan and A. N. Gorban, \"The Five Factor Model of personality and evaluation of drug consumption risk.,\" arXiv [Web Link], 2015\n",
        "Paper above solve binary classification problem for all drugs. For most of drugs sensitivity and specificity are greater than 75%."
      ],
      "metadata": {
        "id": "rbvPW0A-hAhV"
      }
    },
    {
      "cell_type": "markdown",
      "source": [
        "# **La organización que lo generó:**\n",
        "Original Owners of Database:\n",
        "\n",
        "1. Elaine Fehrman,\n",
        "Men's Personality Disorder and National Women's Directorate,\n",
        "Rampton Hospital, Retford,\n",
        "Nottinghamshire, DN22 0PD, UK,\n",
        "Elaine.Fehrman '@' nottshc.nhs.uk\n",
        "\n",
        "2. Vincent Egan,\n",
        "Department of Psychiatry and Applied Psychology,\n",
        "University of Nottingham,\n",
        "Nottingham, NG8 1BB, UK,\n",
        "Vincent.Egan '@' nottingham.ac.uk\n",
        "\n",
        "3. Evgeny M. Mirkes\n",
        "Department of Mathematics,\n",
        "University of Leicester,\n",
        "Leicester, LE1 7RH, UK,\n",
        "em322 '@' le.ac.uk\n",
        "\n",
        "4. Donor:\n",
        "Evgeny M. Mirkes\n",
        "Department of Mathematics,\n",
        "University of Leicester,\n",
        "Leicester, LE1 7RH, UK,\n",
        "em322 '@' le.ac.uk"
      ],
      "metadata": {
        "id": "-1QeQFl7hOaE"
      }
    },
    {
      "cell_type": "markdown",
      "source": [
        "# **Incluya un enlace de Internet donde se puedan descargar el base de datos en línea: **\n",
        " * URL con la descripción - https://archive.ics.uci.edu/ml/datasets/Drug+consumption+%28quantified%29#\n",
        "\n",
        " * URL para descargar - https://archive.ics.uci.edu/ml/machine-learning-databases/00373/"
      ],
      "metadata": {
        "id": "M3mkpH2thQEX"
      }
    },
    {
      "cell_type": "markdown",
      "source": [
        "# **Describe el conjunto de datos. ¿Qué datos contiene?**\n",
        "\n",
        "El dataset contiene las respuestas de 1885 encuestados acerca del consumo de 18 drogas legales e ilegales, para cada encuestado se conocen 24 atributos de medidas de personalidad. Las posibles respuestas para cada droga son: nunca usó la droga, la usó hace más de una década o en la última década, año, mes, semana o día."
      ],
      "metadata": {
        "id": "89u399wLhST7"
      }
    },
    {
      "cell_type": "markdown",
      "source": [
        "# **¿Cuáles son algunas de las preguntas de investigación que podría responder con estos datos? Enumere al menos OCHO (no responda las preguntas).**\n",
        "\n",
        "*   Evaluación de riesgo de consumir cada droga.\n",
        "*   Clasificación binaria mediante la unión de partes de las clases en una nueva clase.\n",
        "*   Mejor binarización de clases para cada atributo.\n",
        "*   Clasificaciones de clase para cada droga por separado.\n",
        "*   Elemento de lista\n",
        "*   Elemento de lista\n",
        "*   Elemento de lista\n",
        "*   Elemento de lista\n",
        "\n",
        "\n",
        "\n",
        "\n"
      ],
      "metadata": {
        "id": "H3wDBx0IhUAM"
      }
    },
    {
      "cell_type": "markdown",
      "source": [
        "# **¿Qué actor (empresa, sector de la sociedad, organismo descentralizado, gobierno, etc.) estaría interesado en las preguntas mencionadas que identificó?**\n",
        "\n",
        "Instituto Nacional de Desarrollo Social.\n",
        "Comisión Nacional contra las Adicciones.\n",
        "Instituto para la atención y prevención de las adicciones en la ciudad de México.\n",
        "La organizacion mundial de la salud."
      ],
      "metadata": {
        "id": "Wasm-sgHhXCn"
      }
    }
  ]
}